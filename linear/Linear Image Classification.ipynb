{
 "cells": [
  {
   "cell_type": "code",
   "execution_count": 2,
   "metadata": {},
   "outputs": [],
   "source": [
    "import tensorflow as tf\n",
    "from tensorflow import keras"
   ]
  },
  {
   "cell_type": "code",
   "execution_count": 3,
   "metadata": {},
   "outputs": [],
   "source": [
    "import pandas as pd\n",
    "import numpy as np"
   ]
  },
  {
   "cell_type": "code",
   "execution_count": 13,
   "metadata": {},
   "outputs": [
    {
     "name": "stdout",
     "output_type": "stream",
     "text": [
      "          x         y  color\n",
      "0  1.146728  2.233629    0.0\n",
      "1  3.676886  4.520687    0.0\n",
      "2  0.730671  1.426260    0.0\n",
      "3  1.950790  3.145987    0.0\n",
      "4  4.323010  5.320534    0.0\n",
      "[1.14672794 3.67688647 0.73067124 1.95079047 4.32300988]\n",
      "<class 'numpy.ndarray'>\n"
     ]
    }
   ],
   "source": [
    "# load in the training data set\n",
    "\n",
    "train_df = pd.read_csv('./data/train.csv')\n",
    "\n",
    "#print(train_df.head())\n",
    "\n",
    "#print(train_df.x.values[0:5])\n",
    "#print(type(train_df.x.values[0:5]))"
   ]
  },
  {
   "cell_type": "code",
   "execution_count": 19,
   "metadata": {},
   "outputs": [
    {
     "ename": "AttributeError",
     "evalue": "module 'tensorflow._api.v1.keras.losses' has no attribute 'SparseCategoricalCrossentropy'",
     "output_type": "error",
     "traceback": [
      "\u001b[0;31m---------------------------------------------------------------------------\u001b[0m",
      "\u001b[0;31mAttributeError\u001b[0m                            Traceback (most recent call last)",
      "\u001b[0;32m<ipython-input-19-b7cad8f4c87e>\u001b[0m in \u001b[0;36m<module>\u001b[0;34m\u001b[0m\n\u001b[1;32m     22\u001b[0m \u001b[0;34m\u001b[0m\u001b[0m\n\u001b[1;32m     23\u001b[0m model.compile(optimizer='adam',\n\u001b[0;32m---> 24\u001b[0;31m              \u001b[0mloss\u001b[0m\u001b[0;34m=\u001b[0m\u001b[0mkeras\u001b[0m\u001b[0;34m.\u001b[0m\u001b[0mlosses\u001b[0m\u001b[0;34m.\u001b[0m\u001b[0mSparseCategoricalCrossentropy\u001b[0m\u001b[0;34m(\u001b[0m\u001b[0mfrom_logits\u001b[0m\u001b[0;34m=\u001b[0m\u001b[0;32mTrue\u001b[0m\u001b[0;34m)\u001b[0m\u001b[0;34m,\u001b[0m \u001b[0;31m#this updates the network\u001b[0m\u001b[0;34m\u001b[0m\u001b[0;34m\u001b[0m\u001b[0m\n\u001b[0m\u001b[1;32m     25\u001b[0m              metrics=['accuracy'])\n\u001b[1;32m     26\u001b[0m \u001b[0;34m\u001b[0m\u001b[0m\n",
      "\u001b[0;31mAttributeError\u001b[0m: module 'tensorflow._api.v1.keras.losses' has no attribute 'SparseCategoricalCrossentropy'"
     ]
    }
   ],
   "source": [
    "# load in the training data set\n",
    "\n",
    "train_df = pd.read_csv('./data/train.csv')\n",
    "np.random.shuffle(train_df.values)\n",
    "\n",
    "#print(train_df.head())\n",
    "\n",
    "#print(train_df.x.values[0:5])\n",
    "#print(type(train_df.x.values[0:5]))\n",
    "\n",
    "# Build a neural network around this training data.\n",
    "# first thing is to pass a keras sequential type. \n",
    "# The sequetial allows us list the different layers we have in our neural network.\n",
    "# this line helps us access layers. the input shape is 2 cos its just x and y and the output shape is also 2\n",
    "# the 4 is the number of neurons (nodes) in the hidden layers \n",
    "\n",
    "model = keras.Sequential([\n",
    "    keras.layers.Dense(4, input_shape=(2,), activation='relu'), keras.layers.Dense(2, activation='sigmoid')])\n",
    "\n",
    "\n",
    "# next is to compile our model i.e to setup loss for our network. this is going to tell us how to train.\n",
    "\n",
    "model.compile(optimizer='adam',\n",
    "             loss=keras.losses.SparseCategoricalCrossentropy(from_logits=True), #this updates the network\n",
    "             metrics=['accuracy'])\n",
    "\n",
    "# next is to fit the training data into our network\n",
    "\n",
    "#model.fit([x], train_df.color.values, batch_size = 16)\n",
    "# Since [x] is a combination of x and y in the train_df, we have to stack both (pair) columns together using the below code\n",
    "\n",
    "x = np.column_stack((train_df.x.values, train_df.y.values))\n",
    "\n",
    "model.fit([x], train_df.color.values, batch_size = 16)"
   ]
  },
  {
   "cell_type": "code",
   "execution_count": null,
   "metadata": {},
   "outputs": [],
   "source": []
  }
 ],
 "metadata": {
  "kernelspec": {
   "display_name": "Python 3",
   "language": "python",
   "name": "python3"
  },
  "language_info": {
   "codemirror_mode": {
    "name": "ipython",
    "version": 3
   },
   "file_extension": ".py",
   "mimetype": "text/x-python",
   "name": "python",
   "nbconvert_exporter": "python",
   "pygments_lexer": "ipython3",
   "version": "3.6.9"
  }
 },
 "nbformat": 4,
 "nbformat_minor": 4
}
