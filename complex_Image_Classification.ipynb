{
  "nbformat": 4,
  "nbformat_minor": 0,
  "metadata": {
    "colab": {
      "name": "complex Image Classification",
      "provenance": [],
      "collapsed_sections": []
    },
    "kernelspec": {
      "name": "python3",
      "display_name": "Python 3"
    }
  },
  "cells": [
    {
      "cell_type": "markdown",
      "metadata": {
        "id": "sIE7VYN3WuMO"
      },
      "source": [
        "## Importing the files from google drive"
      ]
    },
    {
      "cell_type": "code",
      "metadata": {
        "colab": {
          "base_uri": "https://localhost:8080/"
        },
        "id": "IqEw0_WHWghO",
        "outputId": "9759ee8e-b24c-4520-e1d2-b213b0aa64e1"
      },
      "source": [
        "from google.colab import drive\n",
        "drive.mount('/content/drive')"
      ],
      "execution_count": null,
      "outputs": [
        {
          "output_type": "stream",
          "text": [
            "Mounted at /content/drive\n"
          ],
          "name": "stdout"
        }
      ]
    },
    {
      "cell_type": "code",
      "metadata": {
        "id": "neymdR-oXCg9",
        "colab": {
          "base_uri": "https://localhost:8080/"
        },
        "outputId": "6778d78a-a5ea-493d-e70b-c335111f7b2f"
      },
      "source": [
        "ls"
      ],
      "execution_count": null,
      "outputs": [
        {
          "output_type": "stream",
          "text": [
            "\u001b[0m\u001b[01;34mdrive\u001b[0m/  \u001b[01;34msample_data\u001b[0m/\n"
          ],
          "name": "stdout"
        }
      ]
    },
    {
      "cell_type": "code",
      "metadata": {
        "id": "McC8mIuKOo-T"
      },
      "source": [
        "mkdir complex_data"
      ],
      "execution_count": null,
      "outputs": []
    },
    {
      "cell_type": "code",
      "metadata": {
        "colab": {
          "base_uri": "https://localhost:8080/"
        },
        "id": "Bxq-CVWRO3KO",
        "outputId": "e3a55dee-7a92-4b6c-8b4e-4988d6d7b726"
      },
      "source": [
        "ls"
      ],
      "execution_count": null,
      "outputs": [
        {
          "output_type": "stream",
          "text": [
            "\u001b[0m\u001b[01;34mcomplex_data\u001b[0m/  \u001b[01;34mdrive\u001b[0m/  \u001b[01;34msample_data\u001b[0m/\n"
          ],
          "name": "stdout"
        }
      ]
    },
    {
      "cell_type": "code",
      "metadata": {
        "colab": {
          "base_uri": "https://localhost:8080/"
        },
        "id": "Lhn1KP1tO7ZW",
        "outputId": "e9c4eeb3-cd97-477e-93e5-ee1abef9def3"
      },
      "source": [
        "cd complex_data"
      ],
      "execution_count": null,
      "outputs": [
        {
          "output_type": "stream",
          "text": [
            "/content/complex_data\n"
          ],
          "name": "stdout"
        }
      ]
    },
    {
      "cell_type": "code",
      "metadata": {
        "id": "ACPaqKRYPAD4"
      },
      "source": [
        "ls"
      ],
      "execution_count": null,
      "outputs": []
    },
    {
      "cell_type": "code",
      "metadata": {
        "id": "VUig8YO0Yno4"
      },
      "source": [
        "!cp /content/drive/'My Drive'/'Colab Notebooks'/'Image Classification'/complex.zip ."
      ],
      "execution_count": null,
      "outputs": []
    },
    {
      "cell_type": "code",
      "metadata": {
        "colab": {
          "base_uri": "https://localhost:8080/"
        },
        "id": "MkzeUJwDYvQl",
        "outputId": "49223f40-f9de-446c-d32f-5d62fb9603dc"
      },
      "source": [
        "ls"
      ],
      "execution_count": null,
      "outputs": [
        {
          "output_type": "stream",
          "text": [
            "complex.zip\n"
          ],
          "name": "stdout"
        }
      ]
    },
    {
      "cell_type": "code",
      "metadata": {
        "id": "B83xefoKYz8R"
      },
      "source": [
        "# Extracting the files\n",
        "import zipfile\n",
        "path_to_zip_file = 'complex.zip'\n",
        "directory_to_extract_to =''\n",
        "zip_ref = zipfile.ZipFile(path_to_zip_file, 'r')\n",
        "zip_ref.extractall(directory_to_extract_to)\n",
        "zip_ref.close()"
      ],
      "execution_count": null,
      "outputs": []
    },
    {
      "cell_type": "code",
      "metadata": {
        "id": "5bjyg9bVZZfp"
      },
      "source": [
        "### remove the zip file\n",
        "!rm complex.zip"
      ],
      "execution_count": null,
      "outputs": []
    },
    {
      "cell_type": "code",
      "metadata": {
        "colab": {
          "base_uri": "https://localhost:8080/"
        },
        "id": "PuaQDoa5ZzFw",
        "outputId": "32bd3fea-e757-4477-d6f1-39b913e4016e"
      },
      "source": [
        "ls"
      ],
      "execution_count": null,
      "outputs": [
        {
          "output_type": "stream",
          "text": [
            "\u001b[0m\u001b[01;34mcomplex\u001b[0m/\n"
          ],
          "name": "stdout"
        }
      ]
    },
    {
      "cell_type": "code",
      "metadata": {
        "id": "eVNuVFvAzNE2"
      },
      "source": [
        "import tensorflow as tf\n",
        "from tensorflow import keras\n",
        "\n",
        "import pandas as pd\n",
        "import numpy as np\n"
      ],
      "execution_count": null,
      "outputs": []
    },
    {
      "cell_type": "code",
      "metadata": {
        "colab": {
          "base_uri": "https://localhost:8080/"
        },
        "id": "YUIQTAoAX2ZR",
        "outputId": "f58774f5-be3c-4cb9-a2a7-88c96a7f902b"
      },
      "source": [
        "# load in the training data set\n",
        "\n",
        "train_df = pd.read_csv('/content/complex_data/complex/data/train.csv')\n",
        "\n",
        "\n",
        "np.random.shuffle(train_df.values)\n",
        "\n",
        "#print(train_df.head())\n",
        "\n",
        "#print(train_df.x.values[0:5])\n",
        "#print(type(train_df.x.values[0:5]))\n",
        "\n",
        "# Build a neural network around this training data.\n",
        "# first thing is to pass a keras sequential type. \n",
        "# The sequetial allows us list the different layers we have in our neural network.\n",
        "# this line helps us access layers. the input shape is 2 cos its just x and y and the output shape is also 2\n",
        "# the 4 is the number of neurons (nodes) in the hidden layers \n",
        "\n",
        "model = keras.Sequential([\n",
        "    keras.layers.Dense(256, input_shape=(2,), activation='relu'), \n",
        "    keras.layers.Dropout(0.4), #this drops 20% of the nodes in the hidden layer\n",
        "    keras.layers.Dense(128, activation='relu'), #this adds another hidden layers\n",
        "    keras.layers.Dropout(0.4),\n",
        "    keras.layers.Dense(128, activation='relu'),\n",
        "    keras.layers.Dense(2, activation='sigmoid')])\n",
        "\n",
        "\n",
        "# next is to compile our model i.e to setup loss for our network. this is going to tell us how to train.\n",
        "\n",
        "model.compile(optimizer='adam',\n",
        "             loss=keras.losses.SparseCategoricalCrossentropy(from_logits=True), #this updates the network\n",
        "             metrics=['accuracy'])\n",
        "\n",
        "# next is to fit the training data into our network\n",
        "\n",
        "#model.fit([x], train_df.color.values, batch_size = 16)\n",
        "# Since [x] is a combination of x and y in the train_df, we have to stack both (pair) columns together using the below code\n",
        "\n",
        "x = np.column_stack((train_df.x.values, train_df.y.values))\n",
        "\n",
        "model.fit([x], train_df.color.values, batch_size = 32, epochs=10)\n",
        "\n",
        "# Evaluate on the test data\n",
        "\n",
        "test_df = pd.read_csv('/content/complex_data/complex/data/test.csv')\n",
        "test_x = np.column_stack((test_df.x.values, test_df.y.values))\n",
        "\n",
        "# to evaluate use:\n",
        "\n",
        "print('EVALUATION')\n",
        "model.evaluate(test_x, test_df.color.values)\n"
      ],
      "execution_count": null,
      "outputs": [
        {
          "output_type": "stream",
          "text": [
            "Epoch 1/10\n",
            "625/625 [==============================] - 2s 2ms/step - loss: 0.6444 - accuracy: 0.6036\n",
            "Epoch 2/10\n",
            "625/625 [==============================] - 1s 2ms/step - loss: 0.6027 - accuracy: 0.6645\n",
            "Epoch 3/10\n",
            "625/625 [==============================] - 1s 2ms/step - loss: 0.5654 - accuracy: 0.7090\n",
            "Epoch 4/10\n",
            "625/625 [==============================] - 1s 2ms/step - loss: 0.5344 - accuracy: 0.7374\n",
            "Epoch 5/10\n",
            "625/625 [==============================] - 1s 2ms/step - loss: 0.5059 - accuracy: 0.7563\n",
            "Epoch 6/10\n",
            "625/625 [==============================] - 1s 2ms/step - loss: 0.4847 - accuracy: 0.7664\n",
            "Epoch 7/10\n",
            "625/625 [==============================] - 1s 2ms/step - loss: 0.4698 - accuracy: 0.7741\n",
            "Epoch 8/10\n",
            "625/625 [==============================] - 1s 2ms/step - loss: 0.4537 - accuracy: 0.7826\n",
            "Epoch 9/10\n",
            "625/625 [==============================] - 1s 2ms/step - loss: 0.4474 - accuracy: 0.7860\n",
            "Epoch 10/10\n",
            "625/625 [==============================] - 1s 2ms/step - loss: 0.4354 - accuracy: 0.7939\n",
            "EVALUATION\n",
            "157/157 [==============================] - 0s 1ms/step - loss: 0.3889 - accuracy: 0.8036\n"
          ],
          "name": "stdout"
        },
        {
          "output_type": "execute_result",
          "data": {
            "text/plain": [
              "[0.3888755738735199, 0.803600013256073]"
            ]
          },
          "metadata": {
            "tags": []
          },
          "execution_count": 15
        }
      ]
    }
  ]
}