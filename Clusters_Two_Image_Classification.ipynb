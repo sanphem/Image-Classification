{
  "nbformat": 4,
  "nbformat_minor": 0,
  "metadata": {
    "colab": {
      "name": "Clusters Two Image Classification",
      "provenance": [],
      "collapsed_sections": []
    },
    "kernelspec": {
      "name": "python3",
      "display_name": "Python 3"
    }
  },
  "cells": [
    {
      "cell_type": "markdown",
      "metadata": {
        "id": "jRngLtKSaFZi"
      },
      "source": [
        "The Clusters dataset is aimed at classifiying 6 different colours and shapes in a picture."
      ]
    },
    {
      "cell_type": "markdown",
      "metadata": {
        "id": "sIE7VYN3WuMO"
      },
      "source": [
        "Importing the files from google drive"
      ]
    },
    {
      "cell_type": "code",
      "metadata": {
        "colab": {
          "base_uri": "https://localhost:8080/"
        },
        "id": "IqEw0_WHWghO",
        "outputId": "4b0803ff-3b9e-4517-f6e1-a75c548d70f3"
      },
      "source": [
        "from google.colab import drive\n",
        "drive.mount('/content/drive')"
      ],
      "execution_count": null,
      "outputs": [
        {
          "output_type": "stream",
          "text": [
            "Mounted at /content/drive\n"
          ],
          "name": "stdout"
        }
      ]
    },
    {
      "cell_type": "code",
      "metadata": {
        "id": "neymdR-oXCg9",
        "colab": {
          "base_uri": "https://localhost:8080/"
        },
        "outputId": "0fa58ef7-c7d1-40ec-f926-a89d3583790e"
      },
      "source": [
        "ls"
      ],
      "execution_count": null,
      "outputs": [
        {
          "output_type": "stream",
          "text": [
            "\u001b[0m\u001b[01;34mdrive\u001b[0m/  \u001b[01;34msample_data\u001b[0m/\n"
          ],
          "name": "stdout"
        }
      ]
    },
    {
      "cell_type": "code",
      "metadata": {
        "id": "McC8mIuKOo-T"
      },
      "source": [
        "mkdir clusters_two_data"
      ],
      "execution_count": null,
      "outputs": []
    },
    {
      "cell_type": "code",
      "metadata": {
        "colab": {
          "base_uri": "https://localhost:8080/"
        },
        "id": "Bxq-CVWRO3KO",
        "outputId": "a169ee40-36dc-45c0-b402-9b9c1bd88f58"
      },
      "source": [
        "ls"
      ],
      "execution_count": null,
      "outputs": [
        {
          "output_type": "stream",
          "text": [
            "\u001b[0m\u001b[01;34mclusters_two_data\u001b[0m/  \u001b[01;34mdrive\u001b[0m/  \u001b[01;34msample_data\u001b[0m/\n"
          ],
          "name": "stdout"
        }
      ]
    },
    {
      "cell_type": "code",
      "metadata": {
        "colab": {
          "base_uri": "https://localhost:8080/"
        },
        "id": "Lhn1KP1tO7ZW",
        "outputId": "18c4909a-7922-4c95-a93d-aaf29aefff4b"
      },
      "source": [
        "cd clusters_two_data"
      ],
      "execution_count": null,
      "outputs": [
        {
          "output_type": "stream",
          "text": [
            "/content/clusters_two_data\n"
          ],
          "name": "stdout"
        }
      ]
    },
    {
      "cell_type": "code",
      "metadata": {
        "id": "ACPaqKRYPAD4"
      },
      "source": [
        "ls"
      ],
      "execution_count": null,
      "outputs": []
    },
    {
      "cell_type": "code",
      "metadata": {
        "id": "VUig8YO0Yno4"
      },
      "source": [
        "!cp /content/drive/'My Drive'/'Colab Notebooks'/'Image Classification'/clusters_two_categories.zip ."
      ],
      "execution_count": null,
      "outputs": []
    },
    {
      "cell_type": "code",
      "metadata": {
        "colab": {
          "base_uri": "https://localhost:8080/"
        },
        "id": "MkzeUJwDYvQl",
        "outputId": "faa3970e-9445-4698-b3e1-93a4813c8907"
      },
      "source": [
        "ls"
      ],
      "execution_count": null,
      "outputs": [
        {
          "output_type": "stream",
          "text": [
            "clusters_two_categories.zip\n"
          ],
          "name": "stdout"
        }
      ]
    },
    {
      "cell_type": "code",
      "metadata": {
        "id": "B83xefoKYz8R"
      },
      "source": [
        "# Extracting the files\n",
        "import zipfile\n",
        "path_to_zip_file = 'clusters_two_categories.zip'\n",
        "directory_to_extract_to =''\n",
        "zip_ref = zipfile.ZipFile(path_to_zip_file, 'r')\n",
        "zip_ref.extractall(directory_to_extract_to)\n",
        "zip_ref.close()"
      ],
      "execution_count": null,
      "outputs": []
    },
    {
      "cell_type": "code",
      "metadata": {
        "id": "5bjyg9bVZZfp"
      },
      "source": [
        "### remove the zip file\n",
        "!rm clusters_two_categories.zip"
      ],
      "execution_count": null,
      "outputs": []
    },
    {
      "cell_type": "code",
      "metadata": {
        "colab": {
          "base_uri": "https://localhost:8080/"
        },
        "id": "PuaQDoa5ZzFw",
        "outputId": "83f1e3ff-67b6-4373-c0c1-c231412828bf"
      },
      "source": [
        "ls"
      ],
      "execution_count": null,
      "outputs": [
        {
          "output_type": "stream",
          "text": [
            "\u001b[0m\u001b[01;34mclusters_two_categories\u001b[0m/\n"
          ],
          "name": "stdout"
        }
      ]
    },
    {
      "cell_type": "code",
      "metadata": {
        "id": "eVNuVFvAzNE2"
      },
      "source": [
        "import tensorflow as tf\n",
        "from tensorflow import keras\n",
        "\n",
        "import pandas as pd\n",
        "import numpy as np"
      ],
      "execution_count": null,
      "outputs": []
    },
    {
      "cell_type": "code",
      "metadata": {
        "id": "Q8khy4pIArhZ"
      },
      "source": [
        "# load in the training data set\n",
        "\n",
        "train_df = pd.read_csv('/content/clusters_two_data/clusters_two_categories/data/train.csv')"
      ],
      "execution_count": null,
      "outputs": []
    },
    {
      "cell_type": "code",
      "metadata": {
        "colab": {
          "base_uri": "https://localhost:8080/",
          "height": 204
        },
        "id": "polVDtAuA6Th",
        "outputId": "424ead67-1bcc-4c1b-9f2b-4c063c1f7755"
      },
      "source": [
        "train_df.head()"
      ],
      "execution_count": null,
      "outputs": [
        {
          "output_type": "execute_result",
          "data": {
            "text/html": [
              "<div>\n",
              "<style scoped>\n",
              "    .dataframe tbody tr th:only-of-type {\n",
              "        vertical-align: middle;\n",
              "    }\n",
              "\n",
              "    .dataframe tbody tr th {\n",
              "        vertical-align: top;\n",
              "    }\n",
              "\n",
              "    .dataframe thead th {\n",
              "        text-align: right;\n",
              "    }\n",
              "</style>\n",
              "<table border=\"1\" class=\"dataframe\">\n",
              "  <thead>\n",
              "    <tr style=\"text-align: right;\">\n",
              "      <th></th>\n",
              "      <th>x</th>\n",
              "      <th>y</th>\n",
              "      <th>color</th>\n",
              "      <th>marker</th>\n",
              "    </tr>\n",
              "  </thead>\n",
              "  <tbody>\n",
              "    <tr>\n",
              "      <th>0</th>\n",
              "      <td>-0.765775</td>\n",
              "      <td>1.006452</td>\n",
              "      <td>red</td>\n",
              "      <td>^</td>\n",
              "    </tr>\n",
              "    <tr>\n",
              "      <th>1</th>\n",
              "      <td>0.229016</td>\n",
              "      <td>0.094320</td>\n",
              "      <td>red</td>\n",
              "      <td>^</td>\n",
              "    </tr>\n",
              "    <tr>\n",
              "      <th>2</th>\n",
              "      <td>0.189987</td>\n",
              "      <td>1.589141</td>\n",
              "      <td>red</td>\n",
              "      <td>^</td>\n",
              "    </tr>\n",
              "    <tr>\n",
              "      <th>3</th>\n",
              "      <td>0.580085</td>\n",
              "      <td>0.520488</td>\n",
              "      <td>red</td>\n",
              "      <td>^</td>\n",
              "    </tr>\n",
              "    <tr>\n",
              "      <th>4</th>\n",
              "      <td>0.292287</td>\n",
              "      <td>0.317852</td>\n",
              "      <td>red</td>\n",
              "      <td>^</td>\n",
              "    </tr>\n",
              "  </tbody>\n",
              "</table>\n",
              "</div>"
            ],
            "text/plain": [
              "          x         y color marker\n",
              "0 -0.765775  1.006452   red      ^\n",
              "1  0.229016  0.094320   red      ^\n",
              "2  0.189987  1.589141   red      ^\n",
              "3  0.580085  0.520488   red      ^\n",
              "4  0.292287  0.317852   red      ^"
            ]
          },
          "metadata": {
            "tags": []
          },
          "execution_count": 17
        }
      ]
    },
    {
      "cell_type": "code",
      "metadata": {
        "colab": {
          "base_uri": "https://localhost:8080/"
        },
        "id": "UCCNSUoVBE40",
        "outputId": "a17653b6-cca6-4f7a-aaf9-8a7c9e8c7475"
      },
      "source": [
        "train_df['color'].unique()"
      ],
      "execution_count": null,
      "outputs": [
        {
          "output_type": "execute_result",
          "data": {
            "text/plain": [
              "array(['red', 'blue', 'green', 'teal', 'orange', 'purple'], dtype=object)"
            ]
          },
          "metadata": {
            "tags": []
          },
          "execution_count": 27
        }
      ]
    },
    {
      "cell_type": "code",
      "metadata": {
        "colab": {
          "base_uri": "https://localhost:8080/"
        },
        "id": "fLMRxrixBbLn",
        "outputId": "53c98968-d62b-420a-dd78-9d4c637571da"
      },
      "source": [
        "train_df['marker'].unique()"
      ],
      "execution_count": null,
      "outputs": [
        {
          "output_type": "execute_result",
          "data": {
            "text/plain": [
              "array(['^', '+', '*'], dtype=object)"
            ]
          },
          "metadata": {
            "tags": []
          },
          "execution_count": 28
        }
      ]
    },
    {
      "cell_type": "code",
      "metadata": {
        "id": "1Tku_Si_d--d",
        "colab": {
          "base_uri": "https://localhost:8080/"
        },
        "outputId": "88c293b5-09ff-4319-9a2b-7f811aa8f2f3"
      },
      "source": [
        "# the next is to use the pd.get_dummies to categorize the data using one hot encoder\n",
        "\n",
        "one_hot_color = pd.get_dummies(train_df.color).values\n",
        "one_hot_marker = pd.get_dummies(train_df.marker).values\n",
        "\n",
        "# contactenate the two numpy arrays above\n",
        "\n",
        "labels = np.concatenate((one_hot_color, one_hot_marker), axis=1)\n",
        "\n",
        "\n",
        "# Build a neural network around this training data.\n",
        "# first thing is to pass a keras sequential type. \n",
        "# The sequetial allows us list the different layers we have in our neural network.\n",
        "# this line helps us access layers. the input shape is 2 cos its just x and y and the output shape is also 2\n",
        "# the 4 is the number of neurons (nodes) in the hidden layers \n",
        "\n",
        "\n",
        "model = keras.Sequential([\n",
        "    keras.layers.Dense(64, input_shape=(2,), activation='relu'), \n",
        "    #keras.layers.Dropout(0.2), #this drops 20% of the nodes in the hidden layer\n",
        "    keras.layers.Dense(64, activation='relu'), #this adds another hidden layers\n",
        "    keras.layers.Dense(9, activation='sigmoid')])\n",
        "\n",
        "\n",
        "# next is to compile our model i.e to setup loss for our network. this is going to tell us how to train.\n",
        "\n",
        "model.compile(optimizer='adam',\n",
        "             loss=keras.losses.BinaryCrossentropy(from_logits=True), #this updates the network\n",
        "             metrics=['accuracy'])\n",
        "\n",
        "# next is to fit the training data into our network\n",
        "\n",
        "#model.fit([x], train_df.color.values, batch_size = 16)\n",
        "#Since [x] is a combination of x and y in the train_df, we have to stack both (pair) columns together using the below code\n",
        "\n",
        "x = np.column_stack((train_df.x.values, train_df.y.values))\n",
        "\n",
        "# shuffle in an order using the code below\n",
        "\n",
        "np.random.RandomState(seed=42).shuffle(x)\n",
        "np.random.RandomState(seed=42).shuffle(labels)\n",
        "\n",
        "model.fit([x], labels, batch_size = 16, epochs=10)\n",
        "\n",
        "# # Evaluate on the test data\n",
        "\n",
        "test_df = pd.read_csv('/content/clusters_two_data/clusters_two_categories/data/test.csv')\n",
        "test_x = np.column_stack((test_df.x.values, test_df.y.values))\n",
        "\n",
        "test_one_hot_color = pd.get_dummies(test_df.color).values\n",
        "test_one_hot_marker = pd.get_dummies(test_df.marker).values\n",
        "\n",
        "# contactenate the two numpy arrays above\n",
        "\n",
        "test_labels = np.concatenate((test_one_hot_color, test_one_hot_marker), axis=1)\n",
        "\n",
        "#  to evaluate use:\n",
        "\n",
        "print('EVALUATION')\n",
        "\n",
        "model.evaluate(test_x, test_labels)\n",
        "\n",
        "print('Prediction =', np.round(model.predict(np.array([[0, 3], [0,1], [-2, 1]]))))"
      ],
      "execution_count": null,
      "outputs": [
        {
          "output_type": "stream",
          "text": [
            "Epoch 1/10\n",
            "375/375 [==============================] - 1s 1ms/step - loss: 0.4303 - accuracy: 0.0674\n",
            "Epoch 2/10\n",
            "375/375 [==============================] - 0s 1ms/step - loss: 0.1621 - accuracy: 0.2604\n",
            "Epoch 3/10\n",
            "375/375 [==============================] - 0s 1ms/step - loss: 0.0954 - accuracy: 0.2938\n",
            "Epoch 4/10\n",
            "375/375 [==============================] - 0s 1ms/step - loss: 0.0663 - accuracy: 0.2719\n",
            "Epoch 5/10\n",
            "375/375 [==============================] - 0s 1ms/step - loss: 0.0509 - accuracy: 0.2564\n",
            "Epoch 6/10\n",
            "375/375 [==============================] - 0s 1ms/step - loss: 0.0445 - accuracy: 0.2615\n",
            "Epoch 7/10\n",
            "375/375 [==============================] - 0s 1ms/step - loss: 0.0392 - accuracy: 0.2637\n",
            "Epoch 8/10\n",
            "375/375 [==============================] - 0s 1ms/step - loss: 0.0330 - accuracy: 0.2613\n",
            "Epoch 9/10\n",
            "375/375 [==============================] - 0s 1ms/step - loss: 0.0312 - accuracy: 0.2708\n",
            "Epoch 10/10\n",
            "375/375 [==============================] - 0s 1ms/step - loss: 0.0299 - accuracy: 0.2647\n",
            "EVALUATION\n",
            "38/38 [==============================] - 0s 977us/step - loss: 0.0291 - accuracy: 0.2675\n",
            "Prediction = [[0. 0. 0. 1. 0. 0. 1. 0. 0.]\n",
            " [0. 0. 0. 0. 1. 0. 0. 0. 1.]\n",
            " [0. 1. 0. 0. 0. 0. 0. 1. 0.]]\n"
          ],
          "name": "stdout"
        }
      ]
    },
    {
      "cell_type": "code",
      "metadata": {
        "id": "VEJ7TGImEYAO"
      },
      "source": [
        ""
      ],
      "execution_count": null,
      "outputs": []
    }
  ]
}