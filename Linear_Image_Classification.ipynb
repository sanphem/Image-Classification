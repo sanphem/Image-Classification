{
  "nbformat": 4,
  "nbformat_minor": 0,
  "metadata": {
    "colab": {
      "name": "Linear Image Classification",
      "provenance": [],
      "collapsed_sections": []
    },
    "kernelspec": {
      "name": "python3",
      "display_name": "Python 3"
    }
  },
  "cells": [
    {
      "cell_type": "code",
      "metadata": {
        "id": "laI2yMjuaPx5"
      },
      "source": [
        ""
      ],
      "execution_count": null,
      "outputs": []
    },
    {
      "cell_type": "markdown",
      "metadata": {
        "id": "kCfGE7DAWbPk"
      },
      "source": [
        ""
      ]
    },
    {
      "cell_type": "markdown",
      "metadata": {
        "id": "sIE7VYN3WuMO"
      },
      "source": [
        "## Importing the files from google drive"
      ]
    },
    {
      "cell_type": "code",
      "metadata": {
        "colab": {
          "base_uri": "https://localhost:8080/"
        },
        "id": "IqEw0_WHWghO",
        "outputId": "17a6dad0-eea8-4218-be39-17a8b1b353dd"
      },
      "source": [
        "from google.colab import drive\n",
        "drive.mount('/content/drive')"
      ],
      "execution_count": null,
      "outputs": [
        {
          "output_type": "stream",
          "text": [
            "Drive already mounted at /content/drive; to attempt to forcibly remount, call drive.mount(\"/content/drive\", force_remount=True).\n"
          ],
          "name": "stdout"
        }
      ]
    },
    {
      "cell_type": "code",
      "metadata": {
        "colab": {
          "base_uri": "https://localhost:8080/"
        },
        "id": "neymdR-oXCg9",
        "outputId": "b2d334f5-8bc2-408a-c7aa-874dbdc2e564"
      },
      "source": [
        "cd drive"
      ],
      "execution_count": null,
      "outputs": [
        {
          "output_type": "stream",
          "text": [
            "/content/drive\n"
          ],
          "name": "stdout"
        }
      ]
    },
    {
      "cell_type": "code",
      "metadata": {
        "colab": {
          "base_uri": "https://localhost:8080/"
        },
        "id": "ZlJ2NApXYblM",
        "outputId": "5b65610b-2bd4-4c30-e5ec-4377fc5c4807"
      },
      "source": [
        "cd linear"
      ],
      "execution_count": null,
      "outputs": [
        {
          "output_type": "stream",
          "text": [
            "/content/linear\n"
          ],
          "name": "stdout"
        }
      ]
    },
    {
      "cell_type": "code",
      "metadata": {
        "id": "VUig8YO0Yno4"
      },
      "source": [
        "!cp /content/drive/'My Drive'/linear.zip ."
      ],
      "execution_count": null,
      "outputs": []
    },
    {
      "cell_type": "code",
      "metadata": {
        "colab": {
          "base_uri": "https://localhost:8080/"
        },
        "id": "MkzeUJwDYvQl",
        "outputId": "6bfcafd2-c463-47fb-9604-f5e3b3379205"
      },
      "source": [
        "ls"
      ],
      "execution_count": null,
      "outputs": [
        {
          "output_type": "stream",
          "text": [
            "linear.zip\n"
          ],
          "name": "stdout"
        }
      ]
    },
    {
      "cell_type": "code",
      "metadata": {
        "id": "B83xefoKYz8R"
      },
      "source": [
        "# Extracting the files\n",
        "import zipfile\n",
        "path_to_zip_file = 'linear.zip'\n",
        "directory_to_extract_to =''\n",
        "zip_ref = zipfile.ZipFile(path_to_zip_file, 'r')\n",
        "zip_ref.extractall(directory_to_extract_to)\n",
        "zip_ref.close()"
      ],
      "execution_count": null,
      "outputs": []
    },
    {
      "cell_type": "code",
      "metadata": {
        "id": "5bjyg9bVZZfp"
      },
      "source": [
        "### remove the zip file\n",
        "!rm linear.zip"
      ],
      "execution_count": null,
      "outputs": []
    },
    {
      "cell_type": "code",
      "metadata": {
        "colab": {
          "base_uri": "https://localhost:8080/"
        },
        "id": "PuaQDoa5ZzFw",
        "outputId": "ee7bf869-422e-4b59-8526-19cc7bf31997"
      },
      "source": [
        "ls"
      ],
      "execution_count": null,
      "outputs": [
        {
          "output_type": "stream",
          "text": [
            "\u001b[0m\u001b[01;34mlinear\u001b[0m/\n"
          ],
          "name": "stdout"
        }
      ]
    },
    {
      "cell_type": "code",
      "metadata": {
        "id": "eVNuVFvAzNE2"
      },
      "source": [
        "import tensorflow as tf\n",
        "from tensorflow import keras\n",
        "\n",
        "import pandas as pd\n",
        "import numpy as np\n"
      ],
      "execution_count": null,
      "outputs": []
    },
    {
      "cell_type": "code",
      "metadata": {
        "colab": {
          "base_uri": "https://localhost:8080/"
        },
        "id": "bNFo3Ze_aQ_p",
        "outputId": "a0f70584-21ed-4ae7-a158-992672e93eb7"
      },
      "source": [
        "cd content"
      ],
      "execution_count": null,
      "outputs": [
        {
          "output_type": "stream",
          "text": [
            "/content\n"
          ],
          "name": "stdout"
        }
      ]
    },
    {
      "cell_type": "code",
      "metadata": {
        "colab": {
          "base_uri": "https://localhost:8080/"
        },
        "id": "YUIQTAoAX2ZR",
        "outputId": "d1d0715e-7f80-4be7-d75a-9713a570e5af"
      },
      "source": [
        "# load in the training data set\n",
        "\n",
        "train_df = pd.read_csv('/content/linear_data/linear/data/train.csv')\n",
        "\n",
        "\n",
        "np.random.shuffle(train_df.values)\n",
        "\n",
        "#print(train_df.head())\n",
        "\n",
        "#print(train_df.x.values[0:5])\n",
        "#print(type(train_df.x.values[0:5]))\n",
        "\n",
        "# Build a neural network around this training data.\n",
        "# first thing is to pass a keras sequential type. \n",
        "# The sequetial allows us list the different layers we have in our neural network.\n",
        "# this line helps us access layers. the input shape is 2 cos its just x and y and the output shape is also 2\n",
        "# the 4 is the number of neurons (nodes) in the hidden layers \n",
        "\n",
        "model = keras.Sequential([\n",
        "    keras.layers.Dense(4, input_shape=(2,), activation='relu'), \n",
        "    keras.layers.Dense(2, activation='sigmoid')])\n",
        "\n",
        "\n",
        "# next is to compile our model i.e to setup loss for our network. this is going to tell us how to train.\n",
        "\n",
        "model.compile(optimizer='adam',\n",
        "             loss=keras.losses.SparseCategoricalCrossentropy(from_logits=True), #this updates the network\n",
        "             metrics=['accuracy'])\n",
        "\n",
        "# next is to fit the training data into our network\n",
        "\n",
        "#model.fit([x], train_df.color.values, batch_size = 16)\n",
        "# Since [x] is a combination of x and y in the train_df, we have to stack both (pair) columns together using the below code\n",
        "\n",
        "x = np.column_stack((train_df.x.values, train_df.y.values))\n",
        "\n",
        "model.fit([x], train_df.color.values, batch_size = 4, epochs=5)\n",
        "\n",
        "# Evaluate on the test data\n",
        "\n",
        "test_df = pd.read_csv('/content/linear_data/linear/data/test.csv')\n",
        "test_x = np.column_stack((test_df.x.values, test_df.y.values))\n",
        "\n",
        "# to evaluate use:\n",
        "\n",
        "print('EVALUATION')\n",
        "model.evaluate(test_x, test_df.color.values)"
      ],
      "execution_count": null,
      "outputs": [
        {
          "output_type": "stream",
          "text": [
            "Epoch 1/5\n",
            "1000/1000 [==============================] - 1s 907us/step - loss: 0.4085 - accuracy: 0.8710\n",
            "Epoch 2/5\n",
            "1000/1000 [==============================] - 1s 915us/step - loss: 0.1288 - accuracy: 0.9987\n",
            "Epoch 3/5\n",
            "1000/1000 [==============================] - 1s 936us/step - loss: 0.0171 - accuracy: 0.9997\n",
            "Epoch 4/5\n",
            "1000/1000 [==============================] - 1s 966us/step - loss: 0.0058 - accuracy: 1.0000\n",
            "Epoch 5/5\n",
            "1000/1000 [==============================] - 1s 897us/step - loss: 0.0029 - accuracy: 1.0000\n",
            "EVALUATION\n",
            "32/32 [==============================] - 0s 919us/step - loss: 0.0022 - accuracy: 1.0000\n"
          ],
          "name": "stdout"
        },
        {
          "output_type": "execute_result",
          "data": {
            "text/plain": [
              "[0.002228731522336602, 1.0]"
            ]
          },
          "metadata": {
            "tags": []
          },
          "execution_count": 65
        }
      ]
    },
    {
      "cell_type": "code",
      "metadata": {
        "id": "AngTCFO0hAu1"
      },
      "source": [
        ""
      ],
      "execution_count": null,
      "outputs": []
    }
  ]
}